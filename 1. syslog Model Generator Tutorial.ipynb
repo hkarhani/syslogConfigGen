{
 "cells": [
  {
   "cell_type": "markdown",
   "metadata": {},
   "source": [
    "# 1. Collect useful syslogs "
   ]
  },
  {
   "cell_type": "code",
   "execution_count": 1,
   "metadata": {},
   "outputs": [],
   "source": [
    "loginMsg = \"<142>1 2020-06-03T23:19:26+04:00 pcs.fsdxb.net PulseSecure: - - - 2020-06-03 23:19:26 - ive - [10.1.1.221] ahmed(Users)[Users] - VPN Tunneling: Session started for user with IPv4 address 10.0.1.118, hostname DESKTOP-4G2B8S6\"\n",
    "logoutMsg = \"<142>1 2020-06-03T23:20:01+04:00 pcs.fsdxb.net PulseSecure: - - - 2020-06-03 23:20:01 - ive - [10.1.1.221] ahmed(Users)[Users] - VPN Tunneling: Session ended for user with IPv4 address 10.0.1.118\""
   ]
  },
  {
   "cell_type": "code",
   "execution_count": 2,
   "metadata": {},
   "outputs": [
    {
     "data": {
      "text/plain": [
       "'<142>1 2020-06-03T23:19:26+04:00 pcs.fsdxb.net PulseSecure: - - - 2020-06-03 23:19:26 - ive - [10.1.1.221] ahmed(Users)[Users] - VPN Tunneling: Session started for user with IPv4 address 10.0.1.118, hostname DESKTOP-4G2B8S6'"
      ]
     },
     "execution_count": 2,
     "metadata": {},
     "output_type": "execute_result"
    }
   ],
   "source": [
    "loginMsg"
   ]
  },
  {
   "cell_type": "code",
   "execution_count": 3,
   "metadata": {},
   "outputs": [
    {
     "data": {
      "text/plain": [
       "'<142>1 2020-06-03T23:20:01+04:00 pcs.fsdxb.net PulseSecure: - - - 2020-06-03 23:20:01 - ive - [10.1.1.221] ahmed(Users)[Users] - VPN Tunneling: Session ended for user with IPv4 address 10.0.1.118'"
      ]
     },
     "execution_count": 3,
     "metadata": {},
     "output_type": "execute_result"
    }
   ],
   "source": [
    "logoutMsg"
   ]
  },
  {
   "cell_type": "code",
   "execution_count": 4,
   "metadata": {},
   "outputs": [],
   "source": [
    "from syslogutils import getVars, test_re, syslogConfig"
   ]
  },
  {
   "cell_type": "markdown",
   "metadata": {},
   "source": [
    "# 2. Identify fields to Extract\n",
    "\n",
    "One of the Fields should include at least one key (internal ip or mac) to be used to update the respective endpoint properties, referred by that key."
   ]
  },
  {
   "cell_type": "markdown",
   "metadata": {},
   "source": [
    "Fields of interest in loginMsg: \n",
    "\n",
    "Main Selector: \"VPN Tunneling: Session started for user with IPv4 address\"\n",
    "\n",
    "1. key - internal IP: 10.0.1.118 \n",
    "2. username: ahmed \n",
    "3. Realm(s): Users\n",
    "4. hostname: DESKTOP-4G2B8S6\n",
    "5. remote-ip: 10.1.1.221\n",
    "6. vpn-Gateway: pcs.fsdxb.net\n",
    "7. date-time of Login: 2020-06-03 23:19:26 \n",
    "\n",
    "Fields of interest in logoutMsg: \n",
    "\n",
    "Main Selector: \"VPN Tunneling: Session ended for user with IPv4 address\"\n",
    "\n",
    "1. key - internal IP: 10.0.1.118 "
   ]
  },
  {
   "cell_type": "markdown",
   "metadata": {},
   "source": [
    "# 3. Map syslogs to Regular Expressions  "
   ]
  },
  {
   "cell_type": "code",
   "execution_count": 5,
   "metadata": {},
   "outputs": [],
   "source": [
    "### Breakdown of loginMsg => Adding Variables as Targets with << >> delimiters: \n",
    "\n",
    "loginTarget = \"<142>1 2020-06-03T23:19:26+04:00 <<vpn_gateway>> PulseSecure: - - - <<vpn_login_date_time>> - ive - [<<vpn_remote_ip>>] <<vpn_username>>(Users)[<<vpn_realms>>] - VPN Tunneling: Session started for user with IPv4 address <<ip>>, hostname <<vpn_hostname>>\"\n",
    "    \n",
    "### Breakdown of logoutMsg: \n",
    "\n",
    "logoutTarget = \"<142>1 2020-06-03T23:20:01+04:00 pcs.fsdxb.net PulseSecure: - - - 2020-06-03 23:20:01 - ive - [10.1.1.221] ahmed(Users)[Users] - VPN Tunneling: Session ended for user with IPv4 address <<ip>>\"\n"
   ]
  },
  {
   "cell_type": "code",
   "execution_count": 6,
   "metadata": {},
   "outputs": [
    {
     "data": {
      "text/plain": [
       "['$fsapi_vpn_gateway',\n",
       " '$fsapi_vpn_login_date_time',\n",
       " '$fsapi_vpn_remote_ip',\n",
       " '$fsapi_vpn_username',\n",
       " '$fsapi_vpn_realms',\n",
       " '$ip',\n",
       " '$fsapi_vpn_hostname']"
      ]
     },
     "execution_count": 6,
     "metadata": {},
     "output_type": "execute_result"
    }
   ],
   "source": [
    "getVars(loginTarget)"
   ]
  },
  {
   "cell_type": "code",
   "execution_count": 7,
   "metadata": {},
   "outputs": [
    {
     "data": {
      "text/plain": [
       "['$ip']"
      ]
     },
     "execution_count": 7,
     "metadata": {},
     "output_type": "execute_result"
    }
   ],
   "source": [
    "getVars(logoutTarget)"
   ]
  },
  {
   "cell_type": "markdown",
   "metadata": {},
   "source": [
    "## 3.1. Use regex101.com to generate the Regular expression to match the required fields"
   ]
  },
  {
   "cell_type": "raw",
   "metadata": {},
   "source": [
    "Regex tips => Matching fields should be using paranthesis ()\n",
    "\n",
    ".* = Any characters except end of line (\\n). \n",
    "\n",
    "([\\d\\.]+) = Matching an IP Address that include any decimal and dots\n",
    "\n",
    "([\\w\\s]+) = Matching Words along with Spaces \n",
    "\n",
    "[(.*)]    = Matching anything within Brackets! []\n",
    "\n",
    "Reference: https://www.dataquest.io/wp-content/uploads/2019/03/python-regular-expressions-cheat-sheet.pdf "
   ]
  },
  {
   "cell_type": "raw",
   "metadata": {},
   "source": [
    "- Let us begin with the simple logoutMsg message - I just want to extract the last key - the internal IP that got disconnected. \n",
    "\n",
    "- First you need to match that specific Syslog with some Unique selector: \n",
    " - \"VPN Tunneling: Session ended for user with IPv4 address\"\n",
    " - Accept any information before it: .* (blah blah ...) \n",
    " - Match the IP after that selector via : ([\\d\\.]+)\n",
    " \n",
    "So My Regular Expression for logout messages is: \n",
    "\n",
    ".* VPN Tunneling: Session ended for user with IPv4 address ([\\d\\.]+)"
   ]
  },
  {
   "cell_type": "markdown",
   "metadata": {},
   "source": [
    "## 3.1.a. Testing the Logout regex with both messages"
   ]
  },
  {
   "cell_type": "code",
   "execution_count": 8,
   "metadata": {},
   "outputs": [],
   "source": [
    "logout_regex = r\".* VPN Tunneling: Session ended for user with IPv4 address ([\\d\\.]+)\""
   ]
  },
  {
   "cell_type": "code",
   "execution_count": 9,
   "metadata": {},
   "outputs": [
    {
     "name": "stdout",
     "output_type": "stream",
     "text": [
      "Not a matching Syslog!\n"
     ]
    }
   ],
   "source": [
    "test_re(logout_regex, loginMsg)"
   ]
  },
  {
   "cell_type": "code",
   "execution_count": 10,
   "metadata": {},
   "outputs": [
    {
     "name": "stdout",
     "output_type": "stream",
     "text": [
      "Matching Syslog.\n",
      "Group 1 found: 10.0.1.118\n"
     ]
    }
   ],
   "source": [
    "test_re(logout_regex, logoutMsg)"
   ]
  },
  {
   "cell_type": "markdown",
   "metadata": {},
   "source": [
    "## 3.2. Interpreting the login Message"
   ]
  },
  {
   "cell_type": "markdown",
   "metadata": {},
   "source": [
    "Base Selector: VPN Tunneling: Session started for user with IPv4 address \n",
    "Exercise & Innovate in selecting the fields - Recorded in live session"
   ]
  },
  {
   "cell_type": "code",
   "execution_count": 11,
   "metadata": {},
   "outputs": [],
   "source": [
    "login_regex = r\".* (.*) .*: - - - (.*) - .* - \\[([\\d\\.]+)\\] (.*)\\(.*\\)\\[(.*)\\] - VPN Tunneling: Session started for user with IPv4 address ([\\d\\.]+), hostname (.*)\"\n"
   ]
  },
  {
   "cell_type": "code",
   "execution_count": 12,
   "metadata": {},
   "outputs": [
    {
     "name": "stdout",
     "output_type": "stream",
     "text": [
      "Not a matching Syslog!\n"
     ]
    }
   ],
   "source": [
    "test_re(login_regex, logoutMsg)"
   ]
  },
  {
   "cell_type": "code",
   "execution_count": 13,
   "metadata": {},
   "outputs": [
    {
     "name": "stdout",
     "output_type": "stream",
     "text": [
      "Matching Syslog.\n",
      "Group 1 found: pcs.fsdxb.net\n",
      "Group 2 found: 2020-06-03 23:19:26\n",
      "Group 3 found: 10.1.1.221\n",
      "Group 4 found: ahmed\n",
      "Group 5 found: Users\n",
      "Group 6 found: 10.0.1.118\n",
      "Group 7 found: DESKTOP-4G2B8S6\n"
     ]
    }
   ],
   "source": [
    "test_re(login_regex, loginMsg)"
   ]
  },
  {
   "cell_type": "code",
   "execution_count": 14,
   "metadata": {},
   "outputs": [
    {
     "data": {
      "text/plain": [
       "['$fsapi_vpn_gateway',\n",
       " '$fsapi_vpn_login_date_time',\n",
       " '$fsapi_vpn_remote_ip',\n",
       " '$fsapi_vpn_username',\n",
       " '$fsapi_vpn_realms',\n",
       " '$ip',\n",
       " '$fsapi_vpn_hostname']"
      ]
     },
     "execution_count": 14,
     "metadata": {},
     "output_type": "execute_result"
    }
   ],
   "source": [
    "getVars(loginTarget)"
   ]
  },
  {
   "cell_type": "code",
   "execution_count": 15,
   "metadata": {},
   "outputs": [
    {
     "data": {
      "text/plain": [
       "7"
      ]
     },
     "execution_count": 15,
     "metadata": {},
     "output_type": "execute_result"
    }
   ],
   "source": [
    "len(getVars(loginTarget))"
   ]
  },
  {
   "cell_type": "markdown",
   "metadata": {},
   "source": [
    "# 4. Auto-Generate the configuration Skeleton "
   ]
  },
  {
   "cell_type": "code",
   "execution_count": 16,
   "metadata": {},
   "outputs": [],
   "source": [
    "sconf = syslogConfig('PSecure')"
   ]
  },
  {
   "cell_type": "code",
   "execution_count": 17,
   "metadata": {},
   "outputs": [
    {
     "name": "stdout",
     "output_type": "stream",
     "text": [
      "fstool syslog set_property config.type1.option.psecure \"PSecure\"\n",
      "fstool syslog set_property config.type2.option.psecure \"PSecure\"\n",
      "fstool syslog set_property config.type3.option.psecure \"PSecure\"\n",
      "fstool service restart\n",
      "\n"
     ]
    }
   ],
   "source": [
    "print(sconf.config)"
   ]
  },
  {
   "cell_type": "code",
   "execution_count": 18,
   "metadata": {},
   "outputs": [
    {
     "name": "stdout",
     "output_type": "stream",
     "text": [
      "Correctly added the Property for psecure vpn Login\n",
      "$online status set to True for psecure vpn Login\n"
     ]
    }
   ],
   "source": [
    "sconf.add('psecure vpn Login', login_regex, loginTarget, loginMsg)\n",
    "sconf.setOnline('psecure vpn Login', True)"
   ]
  },
  {
   "cell_type": "code",
   "execution_count": 19,
   "metadata": {},
   "outputs": [
    {
     "name": "stdout",
     "output_type": "stream",
     "text": [
      "Correctly added the Property for psecure vpn Logout\n",
      "$online status set to False for psecure vpn Logout\n"
     ]
    }
   ],
   "source": [
    "sconf.add('psecure vpn Logout', logout_regex, logoutTarget, logoutMsg)\n",
    "sconf.setOnline('psecure vpn Logout', False)"
   ]
  },
  {
   "cell_type": "code",
   "execution_count": 20,
   "metadata": {},
   "outputs": [
    {
     "name": "stdout",
     "output_type": "stream",
     "text": [
      "Correctly added the Property for psecure vpn Test\n"
     ]
    }
   ],
   "source": [
    "testMsg = \"<142>1 Test Message from Python Client, ip:10.0.1.118, vpngateway:10.0.1.195\"\n",
    "\n",
    "testTarget = \"<142>1 Test Message from Python Client, ip:<<ip>>, vpngateway:<<vpn_gateway>>\"\n",
    "\n",
    "testRegex = \".* Test Message from Python Client, ip:([\\d\\.]+), vpngateway:([\\d\\.]+)\"\n",
    "\n",
    "sconf.add('psecure vpn Test', testRegex, testTarget, testMsg)"
   ]
  },
  {
   "cell_type": "code",
   "execution_count": 21,
   "metadata": {},
   "outputs": [
    {
     "name": "stdout",
     "output_type": "stream",
     "text": [
      "fstool syslog set_property config.type1.option.psecure \"PSecure\"\n",
      "fstool syslog set_property config.type2.option.psecure \"PSecure\"\n",
      "fstool syslog set_property config.type3.option.psecure \"PSecure\"\n",
      "fstool service restart\n",
      "\n",
      "fstool syslog set_property template.psecure_vpn_login.type \"psecure\"\n",
      "fstool syslog set_property template.psecure_vpn_login.regexp \".* (.*) .*: - - - (.*) - .* - \\[([\\d\\.]+)\\] (.*)\\(.*\\)\\[(.*)\\] - VPN Tunneling: Session started for user with IPv4 address ([\\d\\.]+), hostname (.*)\"\n",
      "fstool syslog set_property template.psecure_vpn_login.properties  \"\\$fsapi_vpn_gateway,\\$fsapi_vpn_login_date_time,\\$fsapi_vpn_remote_ip,\\$fsapi_vpn_username,\\$fsapi_vpn_realms,\\$ip,\\$fsapi_vpn_hostname\"\n",
      "fstool syslog set_property template.psecure_vpn_login.set_true \"\\$online\"\n",
      "\n",
      "fstool syslog set_property template.psecure_vpn_logout.type \"psecure\"\n",
      "fstool syslog set_property template.psecure_vpn_logout.regexp \".* VPN Tunneling: Session ended for user with IPv4 address ([\\d\\.]+)\"\n",
      "fstool syslog set_property template.psecure_vpn_logout.properties  \"\\$ip\"\n",
      "fstool syslog set_property template.psecure_vpn_logout.set_false \"\\$online\"\n",
      "\n",
      "fstool syslog set_property template.psecure_vpn_test.type \"psecure\"\n",
      "fstool syslog set_property template.psecure_vpn_test.regexp \".* Test Message from Python Client, ip:([\\d\\.]+), vpngateway:([\\d\\.]+)\"\n",
      "fstool syslog set_property template.psecure_vpn_test.properties  \"\\$ip,\\$fsapi_vpn_gateway\"\n",
      "fstool syslog restart\n",
      "\n"
     ]
    }
   ],
   "source": [
    "print(sconf.finalConfig())"
   ]
  },
  {
   "cell_type": "code",
   "execution_count": 22,
   "metadata": {},
   "outputs": [
    {
     "name": "stdout",
     "output_type": "stream",
     "text": [
      "fstool oneach fstool syslog set_property config.type1.option.psecure \"PSecure\"\n",
      "fstool oneach fstool syslog set_property config.type2.option.psecure \"PSecure\"\n",
      "fstool oneach fstool syslog set_property config.type3.option.psecure \"PSecure\"\n",
      "fstool oneach fstool service restart\n",
      "\n",
      "fstool oneach fstool syslog set_property template.psecure_vpn_login.type \"psecure\"\n",
      "fstool oneach fstool syslog set_property template.psecure_vpn_login.regexp \".* (.*) .*: - - - (.*) - .* - \\[([\\d\\.]+)\\] (.*)\\(.*\\)\\[(.*)\\] - VPN Tunneling: Session started for user with IPv4 address ([\\d\\.]+), hostname (.*)\"\n",
      "fstool oneach fstool syslog set_property template.psecure_vpn_login.properties  \"\\$fsapi_vpn_gateway,\\$fsapi_vpn_login_date_time,\\$fsapi_vpn_remote_ip,\\$fsapi_vpn_username,\\$fsapi_vpn_realms,\\$ip,\\$fsapi_vpn_hostname\"\n",
      "fstool oneach fstool syslog set_property template.psecure_vpn_login.set_true \"\\$online\"\n",
      "\n",
      "fstool oneach fstool syslog set_property template.psecure_vpn_logout.type \"psecure\"\n",
      "fstool oneach fstool syslog set_property template.psecure_vpn_logout.regexp \".* VPN Tunneling: Session ended for user with IPv4 address ([\\d\\.]+)\"\n",
      "fstool oneach fstool syslog set_property template.psecure_vpn_logout.properties  \"\\$ip\"\n",
      "fstool oneach fstool syslog set_property template.psecure_vpn_logout.set_false \"\\$online\"\n",
      "\n",
      "fstool oneach fstool syslog set_property template.psecure_vpn_test.type \"psecure\"\n",
      "fstool oneach fstool syslog set_property template.psecure_vpn_test.regexp \".* Test Message from Python Client, ip:([\\d\\.]+), vpngateway:([\\d\\.]+)\"\n",
      "fstool oneach fstool syslog set_property template.psecure_vpn_test.properties  \"\\$ip,\\$fsapi_vpn_gateway\"\n",
      "fstool oneach fstool syslog restart\n",
      "\n"
     ]
    }
   ],
   "source": [
    "print(sconf.finalConfig(em=True))"
   ]
  },
  {
   "cell_type": "markdown",
   "metadata": {},
   "source": [
    "# 5. Write the DEX Properties needed for Syslog Messages Parsing \n",
    "The output file can be then imported into the DEX Web Properties - using the precreated Account. "
   ]
  },
  {
   "cell_type": "code",
   "execution_count": 23,
   "metadata": {},
   "outputs": [
    {
     "name": "stdout",
     "output_type": "stream",
     "text": [
      "Generating dexProperties for: vpn_gateway\n",
      "Generating dexProperties for: vpn_login_date_time\n",
      "Generating dexProperties for: vpn_remote_ip\n",
      "Generating dexProperties for: vpn_username\n",
      "Generating dexProperties for: vpn_realms\n",
      "Generating dexProperties for: vpn_hostname\n",
      "Generating dexProperties for: vpn_gateway\n",
      "Writing DEX Properties to file: vpn_dex_properties.xml\n"
     ]
    },
    {
     "data": {
      "text/plain": [
       "True"
      ]
     },
     "execution_count": 23,
     "metadata": {},
     "output_type": "execute_result"
    }
   ],
   "source": [
    "# Write DEX Properties to a file using pre-defined DEX User to an output XML file\n",
    "sconf.writeDexProperties('lab', 'vpn_dex_properties.xml')"
   ]
  },
  {
   "cell_type": "code",
   "execution_count": null,
   "metadata": {},
   "outputs": [],
   "source": []
  }
 ],
 "metadata": {
  "kernelspec": {
   "display_name": "Python 3",
   "language": "python",
   "name": "python3"
  },
  "language_info": {
   "codemirror_mode": {
    "name": "ipython",
    "version": 3
   },
   "file_extension": ".py",
   "mimetype": "text/x-python",
   "name": "python",
   "nbconvert_exporter": "python",
   "pygments_lexer": "ipython3",
   "version": "3.6.8"
  }
 },
 "nbformat": 4,
 "nbformat_minor": 2
}
