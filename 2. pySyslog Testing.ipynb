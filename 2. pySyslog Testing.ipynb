{
 "cells": [
  {
   "cell_type": "code",
   "execution_count": null,
   "metadata": {},
   "outputs": [],
   "source": [
    "!ping 10.0.1.206 -c 3"
   ]
  },
  {
   "cell_type": "code",
   "execution_count": null,
   "metadata": {},
   "outputs": [],
   "source": [
    "from syslogutils import Syslog, Level\n",
    "\n",
    "log = Syslog(host=\"10.0.1.206\",port=514)"
   ]
  },
  {
   "cell_type": "code",
   "execution_count": null,
   "metadata": {},
   "outputs": [],
   "source": [
    "# Simulation data\n",
    "src_ip = '10.0.1.118'\n",
    "vpn_gw = '10.0.1.195'\n",
    "vpn_dns = 'pcs.fsdxb.net'\n",
    "remote_ip = '10.1.1.221'\n",
    "vpn_user = 'ahmed'\n",
    "vpn_realms = 'Users'\n",
    "vpn_hostname = 'DESKTOP-4G2B8S6'"
   ]
  },
  {
   "cell_type": "code",
   "execution_count": null,
   "metadata": {},
   "outputs": [],
   "source": [
    "loginMsg = f\"1 2020-06-03T23:19:26+04:00 {vpn_dns} PulseSecure: - - - 2020-06-03 23:19:26 - ive - [{remote_ip}] {vpn_user}(Users)[{vpn_realms}] - VPN Tunneling: Session started for user with IPv4 address {src_ip}, hostname {vpn_hostname}\"\n",
    "logoutMsg = f\"1 2020-06-03T23:20:01+04:00 {vpn_dns} PulseSecure: - - - 2020-06-03 23:20:01 - ive - [{remote_ip}] {vpn_user}(Users)[{vpn_realms}] - VPN Tunneling: Session ended for user with IPv4 address {src_ip}\""
   ]
  },
  {
   "cell_type": "code",
   "execution_count": null,
   "metadata": {},
   "outputs": [],
   "source": [
    "testMsg = f\"1 Test Message from Python Client, ip:{src_ip}, vpngateway:10.0.1.111\"\n",
    "testMsg"
   ]
  },
  {
   "cell_type": "code",
   "execution_count": null,
   "metadata": {},
   "outputs": [],
   "source": [
    "log.send(loginMsg, Level.WARNING)"
   ]
  },
  {
   "cell_type": "code",
   "execution_count": null,
   "metadata": {},
   "outputs": [],
   "source": [
    "log.send(logoutMsg, Level.WARNING)"
   ]
  },
  {
   "cell_type": "code",
   "execution_count": null,
   "metadata": {},
   "outputs": [],
   "source": [
    "log.send(testMsg, Level.WARNING)"
   ]
  }
 ],
 "metadata": {
  "kernelspec": {
   "display_name": "Python 3",
   "language": "python",
   "name": "python3"
  },
  "language_info": {
   "codemirror_mode": {
    "name": "ipython",
    "version": 3
   },
   "file_extension": ".py",
   "mimetype": "text/x-python",
   "name": "python",
   "nbconvert_exporter": "python",
   "pygments_lexer": "ipython3",
   "version": "3.6.8"
  }
 },
 "nbformat": 4,
 "nbformat_minor": 1
}
